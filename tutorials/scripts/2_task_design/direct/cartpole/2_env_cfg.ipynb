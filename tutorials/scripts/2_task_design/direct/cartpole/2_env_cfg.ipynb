{
 "cells": [
  {
   "cell_type": "code",
   "execution_count": null,
   "id": "6ef24c57",
   "metadata": {},
   "outputs": [],
   "source": [
    "from __future__ import annotations\n",
    "\n",
    "from isaaclab_assets.robots.cartpole import CARTPOLE_CFG\n",
    "\n",
    "from isaaclab.assets import ArticulationCfg\n",
    "from isaaclab.envs import DirectRLEnvCfg\n",
    "from isaaclab.scene import InteractiveSceneCfg\n",
    "from isaaclab.sim import SimulationCfg\n",
    "from isaaclab.utils import configclass\n",
    "\n",
    "\n",
    "@configclass\n",
    "class CartpoleEnvCfg(DirectRLEnvCfg):\n",
    "    # env\n",
    "    decimation = 2\n",
    "    episode_length_s = 5.0\n",
    "    action_scale = 100.0  # [N]\n",
    "    action_space = 1\n",
    "    observation_space = 4\n",
    "    state_space = 0\n",
    "\n",
    "    # simulation\n",
    "    sim: SimulationCfg = SimulationCfg(dt=1 / 120, render_interval=decimation)\n",
    "\n",
    "    # robot\n",
    "    robot_cfg: ArticulationCfg = CARTPOLE_CFG.replace(prim_path=\"/World/envs/env_.*/Robot\")\n",
    "    cart_dof_name = \"slider_to_cart\"\n",
    "    pole_dof_name = \"cart_to_pole\"\n",
    "\n",
    "    # scene\n",
    "    scene: InteractiveSceneCfg = InteractiveSceneCfg(\n",
    "        num_envs=4096, env_spacing=4.0, replicate_physics=True, clone_in_fabric=True\n",
    "    )\n",
    "\n",
    "    # reset\n",
    "    max_cart_pos = 3.0  # the cart is reset if it exceeds that position [m]\n",
    "    initial_pole_angle_range = [-0.25, 0.25]  # the range in which the pole angle is sampled from on reset [rad]\n",
    "\n",
    "    # reward scales\n",
    "    rew_scale_alive = 1.0\n",
    "    rew_scale_terminated = -2.0\n",
    "    rew_scale_pole_pos = -1.0\n",
    "    rew_scale_cart_vel = -0.01\n",
    "    rew_scale_pole_vel = -0.005"
   ]
  }
 ],
 "metadata": {
  "language_info": {
   "name": "python"
  }
 },
 "nbformat": 4,
 "nbformat_minor": 5
}
