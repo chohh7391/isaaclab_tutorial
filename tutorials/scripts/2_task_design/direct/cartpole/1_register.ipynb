{
 "cells": [
  {
   "cell_type": "markdown",
   "id": "a677978c",
   "metadata": {},
   "source": [
    "# Register Tasks"
   ]
  },
  {
   "cell_type": "code",
   "execution_count": null,
   "id": "d90610cb",
   "metadata": {},
   "outputs": [],
   "source": [
    "import gymnasium as gym\n",
    "\n",
    "from . import agents"
   ]
  },
  {
   "cell_type": "code",
   "execution_count": null,
   "id": "1e791a77",
   "metadata": {},
   "outputs": [],
   "source": [
    "gym.register(\n",
    "    id=\"Tutorial-Cartpole-Direct-v0\",\n",
    "    entry_point=f\"{__name__}.cartpole_env:CartpoleEnv\",\n",
    "    disable_env_checker=True,\n",
    "    kwargs={\n",
    "        \"env_cfg_entry_point\": f\"{__name__}.cartpole_env:CartpoleEnvCfg\",\n",
    "        \"rl_games_cfg_entry_point\": f\"{agents.__name__}:rl_games_ppo_cfg.yaml\",\n",
    "        \"rsl_rl_cfg_entry_point\": f\"{agents.__name__}.rsl_rl_ppo_cfg:CartpolePPORunnerCfg\",\n",
    "        \"skrl_cfg_entry_point\": f\"{agents.__name__}:skrl_ppo_cfg.yaml\",\n",
    "        \"sb3_cfg_entry_point\": f\"{agents.__name__}:sb3_ppo_cfg.yaml\",\n",
    "    },\n",
    ")"
   ]
  },
  {
   "cell_type": "code",
   "execution_count": null,
   "id": "017fd466",
   "metadata": {},
   "outputs": [],
   "source": [
    "gym.register( \n",
    "    id=\"Tutorial-Cartpole-RGB-Camera-Direct-v0\",\n",
    "    entry_point=f\"{__name__}.cartpole_camera_env:CartpoleCameraEnv\",\n",
    "    disable_env_checker=True,\n",
    "    kwargs={\n",
    "        \"env_cfg_entry_point\": f\"{__name__}.cartpole_camera_env:CartpoleRGBCameraEnvCfg\",\n",
    "        \"rl_games_cfg_entry_point\": f\"{agents.__name__}:rl_games_camera_ppo_cfg.yaml\",\n",
    "        \"skrl_cfg_entry_point\": f\"{agents.__name__}:skrl_camera_ppo_cfg.yaml\",\n",
    "    },\n",
    ")"
   ]
  },
  {
   "cell_type": "code",
   "execution_count": null,
   "id": "9e043da6",
   "metadata": {},
   "outputs": [],
   "source": [
    "gym.register(\n",
    "    id=\"Tutorial-Cartpole-Depth-Camera-Direct-v0\",\n",
    "    entry_point=f\"{__name__}.cartpole_camera_env:CartpoleCameraEnv\",\n",
    "    disable_env_checker=True,\n",
    "    kwargs={\n",
    "        \"env_cfg_entry_point\": f\"{__name__}.cartpole_camera_env:CartpoleDepthCameraEnvCfg\",\n",
    "        \"rl_games_cfg_entry_point\": f\"{agents.__name__}:rl_games_camera_ppo_cfg.yaml\",\n",
    "        \"skrl_cfg_entry_point\": f\"{agents.__name__}:skrl_camera_ppo_cfg.yaml\",\n",
    "    },\n",
    ")"
   ]
  }
 ],
 "metadata": {
  "language_info": {
   "name": "python"
  }
 },
 "nbformat": 4,
 "nbformat_minor": 5
}
