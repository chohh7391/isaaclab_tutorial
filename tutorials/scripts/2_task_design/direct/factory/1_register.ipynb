{
 "cells": [
  {
   "cell_type": "code",
   "execution_count": null,
   "id": "3145d0d4",
   "metadata": {},
   "outputs": [],
   "source": [
    "import gymnasium as gym\n",
    "\n",
    "from . import agents\n"
   ]
  },
  {
   "cell_type": "code",
   "execution_count": null,
   "id": "c81dfaab",
   "metadata": {},
   "outputs": [],
   "source": [
    "gym.register(\n",
    "    id=\"Tutorial-Factory-PegInsert-Direct-v0\",\n",
    "    entry_point=f\"{__name__}.factory_env:FactoryEnv\",\n",
    "    disable_env_checker=True,\n",
    "    kwargs={\n",
    "        \"env_cfg_entry_point\": f\"{__name__}.factory_env_cfg:FactoryTaskPegInsertCfg\",\n",
    "        \"rl_games_cfg_entry_point\": f\"{agents.__name__}:rl_games_ppo_cfg.yaml\",\n",
    "    },\n",
    ")\n",
    "\n",
    "gym.register(\n",
    "    id=\"Tutorial-Factory-GearMesh-Direct-v0\",\n",
    "    entry_point=f\"{__name__}.factory_env:FactoryEnv\",\n",
    "    disable_env_checker=True,\n",
    "    kwargs={\n",
    "        \"env_cfg_entry_point\": f\"{__name__}.factory_env_cfg:FactoryTaskGearMeshCfg\",\n",
    "        \"rl_games_cfg_entry_point\": f\"{agents.__name__}:rl_games_ppo_cfg.yaml\",\n",
    "    },\n",
    ")\n",
    "\n",
    "gym.register(\n",
    "    id=\"Tutorial-Factory-NutThread-Direct-v0\",\n",
    "    entry_point=f\"{__name__}.factory_env:FactoryEnv\",\n",
    "    disable_env_checker=True,\n",
    "    kwargs={\n",
    "        \"env_cfg_entry_point\": f\"{__name__}.factory_env_cfg:FactoryTaskNutThreadCfg\",\n",
    "        \"rl_games_cfg_entry_point\": f\"{agents.__name__}:rl_games_ppo_cfg.yaml\",\n",
    "    },\n",
    ")"
   ]
  }
 ],
 "metadata": {
  "language_info": {
   "name": "python"
  }
 },
 "nbformat": 4,
 "nbformat_minor": 5
}
