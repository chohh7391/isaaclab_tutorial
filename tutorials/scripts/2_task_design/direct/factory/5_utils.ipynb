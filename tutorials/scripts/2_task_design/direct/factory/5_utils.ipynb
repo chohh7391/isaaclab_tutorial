{
 "cells": [
  {
   "cell_type": "code",
   "execution_count": null,
   "id": "77e30c7c",
   "metadata": {},
   "outputs": [],
   "source": [
    "import numpy as np\n",
    "import torch\n",
    "\n",
    "import isaacsim.core.utils.torch as torch_utils"
   ]
  },
  {
   "cell_type": "code",
   "execution_count": null,
   "id": "017e114a",
   "metadata": {},
   "outputs": [],
   "source": [
    "def get_keypoint_offsets(num_keypoints, device):\n",
    "    \"\"\"Get uniformly-spaced keypoints along a line of unit length, centered at 0.\"\"\"\n",
    "    keypoint_offsets = torch.zeros((num_keypoints, 3), device=device)\n",
    "    keypoint_offsets[:, -1] = torch.linspace(0.0, 1.0, num_keypoints, device=device) - 0.5\n",
    "    return keypoint_offsets"
   ]
  },
  {
   "cell_type": "code",
   "execution_count": null,
   "id": "7bffbec3",
   "metadata": {},
   "outputs": [],
   "source": [
    "def get_deriv_gains(prop_gains, rot_deriv_scale=1.0):\n",
    "    \"\"\"Set robot gains using critical damping.\"\"\"\n",
    "    deriv_gains = 2 * torch.sqrt(prop_gains)\n",
    "    deriv_gains[:, 3:6] /= rot_deriv_scale\n",
    "    return deriv_gains"
   ]
  },
  {
   "cell_type": "code",
   "execution_count": null,
   "id": "ad815418",
   "metadata": {},
   "outputs": [],
   "source": [
    "def wrap_yaw(angle):\n",
    "    \"\"\"Ensure yaw stays within range.\"\"\"\n",
    "    return torch.where(angle > np.deg2rad(235), angle - 2 * np.pi, angle)"
   ]
  },
  {
   "cell_type": "code",
   "execution_count": null,
   "id": "051cc905",
   "metadata": {},
   "outputs": [],
   "source": [
    "def set_friction(asset, value, num_envs):\n",
    "    \"\"\"Update material properties for a given asset.\"\"\"\n",
    "    materials = asset.root_physx_view.get_material_properties()\n",
    "    materials[..., 0] = value  # Static friction.\n",
    "    materials[..., 1] = value  # Dynamic friction.\n",
    "    env_ids = torch.arange(num_envs, device=\"cpu\")\n",
    "    asset.root_physx_view.set_material_properties(materials, env_ids)"
   ]
  },
  {
   "cell_type": "code",
   "execution_count": null,
   "id": "9d565bee",
   "metadata": {},
   "outputs": [],
   "source": [
    "def set_body_inertias(robot, num_envs):\n",
    "    \"\"\"Note: this is to account for the asset_options.armature parameter in IGE.\"\"\"\n",
    "    inertias = robot.root_physx_view.get_inertias()\n",
    "    offset = torch.zeros_like(inertias)\n",
    "    offset[:, :, [0, 4, 8]] += 0.01\n",
    "    new_inertias = inertias + offset\n",
    "    robot.root_physx_view.set_inertias(new_inertias, torch.arange(num_envs))"
   ]
  },
  {
   "cell_type": "code",
   "execution_count": null,
   "id": "5b1089f0",
   "metadata": {},
   "outputs": [],
   "source": [
    "def get_held_base_pos_local(task_name, fixed_asset_cfg, num_envs, device):\n",
    "    \"\"\"Get transform between asset default frame and geometric base frame.\"\"\"\n",
    "    held_base_x_offset = 0.0\n",
    "    if task_name == \"peg_insert\":\n",
    "        held_base_z_offset = 0.0\n",
    "    elif task_name == \"gear_mesh\":\n",
    "        gear_base_offset = fixed_asset_cfg.medium_gear_base_offset\n",
    "        held_base_x_offset = gear_base_offset[0]\n",
    "        held_base_z_offset = gear_base_offset[2]\n",
    "    elif task_name == \"nut_thread\":\n",
    "        held_base_z_offset = fixed_asset_cfg.base_height\n",
    "    else:\n",
    "        raise NotImplementedError(\"Task not implemented\")\n",
    "\n",
    "    held_base_pos_local = torch.tensor([0.0, 0.0, 0.0], device=device).repeat((num_envs, 1))\n",
    "    held_base_pos_local[:, 0] = held_base_x_offset\n",
    "    held_base_pos_local[:, 2] = held_base_z_offset\n",
    "\n",
    "    return held_base_pos_local"
   ]
  },
  {
   "cell_type": "code",
   "execution_count": null,
   "id": "aefc3596",
   "metadata": {},
   "outputs": [],
   "source": [
    "def get_held_base_pose(held_pos, held_quat, task_name, fixed_asset_cfg, num_envs, device):\n",
    "    \"\"\"Get current poses for keypoint and success computation.\"\"\"\n",
    "    held_base_pos_local = get_held_base_pos_local(task_name, fixed_asset_cfg, num_envs, device)\n",
    "    held_base_quat_local = torch.tensor([1.0, 0.0, 0.0, 0.0], device=device).unsqueeze(0).repeat(num_envs, 1)\n",
    "\n",
    "    held_base_quat, held_base_pos = torch_utils.tf_combine(\n",
    "        held_quat, held_pos, held_base_quat_local, held_base_pos_local\n",
    "    )\n",
    "    return held_base_pos, held_base_quat"
   ]
  },
  {
   "cell_type": "code",
   "execution_count": null,
   "id": "0ace4e50",
   "metadata": {},
   "outputs": [],
   "source": [
    "def get_target_held_base_pose(fixed_pos, fixed_quat, task_name, fixed_asset_cfg, num_envs, device):\n",
    "    \"\"\"Get target poses for keypoint and success computation.\"\"\"\n",
    "    fixed_success_pos_local = torch.zeros((num_envs, 3), device=device)\n",
    "    if task_name == \"peg_insert\":\n",
    "        fixed_success_pos_local[:, 2] = 0.0\n",
    "    elif task_name == \"gear_mesh\":\n",
    "        gear_base_offset = fixed_asset_cfg.medium_gear_base_offset\n",
    "        fixed_success_pos_local[:, 0] = gear_base_offset[0]\n",
    "        fixed_success_pos_local[:, 2] = gear_base_offset[2]\n",
    "    elif task_name == \"nut_thread\":\n",
    "        head_height = fixed_asset_cfg.base_height\n",
    "        shank_length = fixed_asset_cfg.height\n",
    "        thread_pitch = fixed_asset_cfg.thread_pitch\n",
    "        fixed_success_pos_local[:, 2] = head_height + shank_length - thread_pitch * 1.5\n",
    "    else:\n",
    "        raise NotImplementedError(\"Task not implemented\")\n",
    "    fixed_success_quat_local = torch.tensor([1.0, 0.0, 0.0, 0.0], device=device).unsqueeze(0).repeat(num_envs, 1)\n",
    "\n",
    "    target_held_base_quat, target_held_base_pos = torch_utils.tf_combine(\n",
    "        fixed_quat, fixed_pos, fixed_success_quat_local, fixed_success_pos_local\n",
    "    )\n",
    "    return target_held_base_pos, target_held_base_quat"
   ]
  },
  {
   "cell_type": "code",
   "execution_count": null,
   "id": "0968e200",
   "metadata": {},
   "outputs": [],
   "source": [
    "def squashing_fn(x, a, b):\n",
    "    \"\"\"Compute bounded reward function.\"\"\"\n",
    "    return 1 / (torch.exp(a * x) + b + torch.exp(-a * x))"
   ]
  },
  {
   "cell_type": "code",
   "execution_count": null,
   "id": "95a555df",
   "metadata": {},
   "outputs": [],
   "source": [
    "def collapse_obs_dict(obs_dict, obs_order):\n",
    "    \"\"\"Stack observations in given order.\"\"\"\n",
    "    obs_tensors = [obs_dict[obs_name] for obs_name in obs_order]\n",
    "    obs_tensors = torch.cat(obs_tensors, dim=-1)\n",
    "    return obs_tensors"
   ]
  }
 ],
 "metadata": {
  "language_info": {
   "name": "python"
  }
 },
 "nbformat": 4,
 "nbformat_minor": 5
}
