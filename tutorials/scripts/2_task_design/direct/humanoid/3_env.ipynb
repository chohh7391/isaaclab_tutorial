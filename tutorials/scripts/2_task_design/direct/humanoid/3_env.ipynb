{
 "cells": [
  {
   "cell_type": "code",
   "execution_count": null,
   "id": "d9ffdb33",
   "metadata": {},
   "outputs": [],
   "source": [
    "class HumanoidEnv(LocomotionEnv):\n",
    "    cfg: HumanoidEnvCfg\n",
    "\n",
    "    def __init__(self, cfg: HumanoidEnvCfg, render_mode: str | None = None, **kwargs):\n",
    "        super().__init__(cfg, render_mode, **kwargs)"
   ]
  }
 ],
 "metadata": {
  "language_info": {
   "name": "python"
  }
 },
 "nbformat": 4,
 "nbformat_minor": 5
}
