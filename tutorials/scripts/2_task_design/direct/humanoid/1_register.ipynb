{
 "cells": [
  {
   "cell_type": "markdown",
   "id": "a677978c",
   "metadata": {},
   "source": [
    "# Register Tasks"
   ]
  },
  {
   "cell_type": "code",
   "execution_count": null,
   "id": "d90610cb",
   "metadata": {},
   "outputs": [],
   "source": [
    "import gymnasium as gym\n",
    "\n",
    "from . import agents"
   ]
  },
  {
   "cell_type": "code",
   "execution_count": null,
   "id": "1e791a77",
   "metadata": {},
   "outputs": [],
   "source": [
    "gym.register(\n",
    "    id=\"Tutorial-Humanoid-Direct-v0\",\n",
    "    entry_point=f\"{__name__}.humanoid_env:HumanoidEnv\",\n",
    "    disable_env_checker=True,\n",
    "    kwargs={\n",
    "        \"env_cfg_entry_point\": f\"{__name__}.humanoid_env:HumanoidEnvCfg\",\n",
    "        \"rl_games_cfg_entry_point\": f\"{agents.__name__}:rl_games_ppo_cfg.yaml\",\n",
    "        \"rsl_rl_cfg_entry_point\": f\"{agents.__name__}.rsl_rl_ppo_cfg:HumanoidPPORunnerCfg\",\n",
    "        \"skrl_cfg_entry_point\": f\"{agents.__name__}:skrl_ppo_cfg.yaml\",\n",
    "    },\n",
    ")"
   ]
  }
 ],
 "metadata": {
  "language_info": {
   "name": "python"
  }
 },
 "nbformat": 4,
 "nbformat_minor": 5
}
