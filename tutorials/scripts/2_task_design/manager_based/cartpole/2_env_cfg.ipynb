{
 "cells": [
  {
   "cell_type": "code",
   "execution_count": null,
   "id": "aea3e308",
   "metadata": {},
   "outputs": [],
   "source": [
    "import math\n",
    "\n",
    "import isaaclab.sim as sim_utils\n",
    "from isaaclab.assets import ArticulationCfg, AssetBaseCfg\n",
    "from isaaclab.envs import ManagerBasedRLEnvCfg\n",
    "from isaaclab.managers import EventTermCfg as EventTerm\n",
    "from isaaclab.managers import ObservationGroupCfg as ObsGroup\n",
    "from isaaclab.managers import ObservationTermCfg as ObsTerm\n",
    "from isaaclab.managers import RewardTermCfg as RewTerm\n",
    "from isaaclab.managers import SceneEntityCfg\n",
    "from isaaclab.managers import TerminationTermCfg as DoneTerm\n",
    "from isaaclab.scene import InteractiveSceneCfg\n",
    "from isaaclab.utils import configclass"
   ]
  },
  {
   "cell_type": "code",
   "execution_count": null,
   "id": "3f0220c2",
   "metadata": {},
   "outputs": [],
   "source": [
    "# import isaaclab_tasks.manager_based.classic.cartpole.mdp as mdp\n",
    "import isaaclab_tutorial.tasks.manager_based.cartpole.mdp as mdp"
   ]
  },
  {
   "cell_type": "code",
   "execution_count": null,
   "id": "d2019cb1",
   "metadata": {},
   "outputs": [],
   "source": [
    "##\n",
    "# Pre-defined configs\n",
    "##\n",
    "from isaaclab_assets.robots.cartpole import CARTPOLE_CFG  # isort:skip"
   ]
  },
  {
   "cell_type": "code",
   "execution_count": null,
   "id": "d6929a98",
   "metadata": {},
   "outputs": [],
   "source": [
    "@configclass\n",
    "class CartpoleSceneCfg(InteractiveSceneCfg):\n",
    "    \"\"\"Configuration for a cart-pole scene.\"\"\"\n",
    "\n",
    "    # ground plane\n",
    "    ground = AssetBaseCfg(\n",
    "        prim_path=\"/World/ground\",\n",
    "        spawn=sim_utils.GroundPlaneCfg(size=(100.0, 100.0)),\n",
    "    )\n",
    "\n",
    "    # cartpole\n",
    "    robot: ArticulationCfg = CARTPOLE_CFG.replace(prim_path=\"{ENV_REGEX_NS}/Robot\")\n",
    "\n",
    "    # lights\n",
    "    dome_light = AssetBaseCfg(\n",
    "        prim_path=\"/World/DomeLight\",\n",
    "        spawn=sim_utils.DomeLightCfg(color=(0.9, 0.9, 0.9), intensity=500.0),\n",
    "    )"
   ]
  },
  {
   "cell_type": "code",
   "execution_count": null,
   "id": "1086f15a",
   "metadata": {},
   "outputs": [],
   "source": [
    "@configclass\n",
    "class ActionsCfg:\n",
    "    \"\"\"Action specifications for the MDP.\"\"\"\n",
    "\n",
    "    joint_effort = mdp.JointEffortActionCfg(asset_name=\"robot\", joint_names=[\"slider_to_cart\"], scale=100.0)"
   ]
  },
  {
   "cell_type": "code",
   "execution_count": null,
   "id": "8d68b859",
   "metadata": {},
   "outputs": [],
   "source": [
    "@configclass\n",
    "class ObservationsCfg:\n",
    "    \"\"\"Observation specifications for the MDP.\"\"\"\n",
    "\n",
    "    @configclass\n",
    "    class PolicyCfg(ObsGroup):\n",
    "        \"\"\"Observations for policy group.\"\"\"\n",
    "\n",
    "        # observation terms (order preserved)\n",
    "        joint_pos_rel = ObsTerm(func=mdp.joint_pos_rel)\n",
    "        joint_vel_rel = ObsTerm(func=mdp.joint_vel_rel)\n",
    "\n",
    "        def __post_init__(self) -> None:\n",
    "            self.enable_corruption = False\n",
    "            self.concatenate_terms = True\n",
    "\n",
    "    # observation groups\n",
    "    policy: PolicyCfg = PolicyCfg()"
   ]
  },
  {
   "cell_type": "code",
   "execution_count": null,
   "id": "8e43e8f9",
   "metadata": {},
   "outputs": [],
   "source": [
    "@configclass\n",
    "class EventCfg:\n",
    "    \"\"\"Configuration for events.\"\"\"\n",
    "\n",
    "    # reset\n",
    "    reset_cart_position = EventTerm(\n",
    "        func=mdp.reset_joints_by_offset,\n",
    "        mode=\"reset\",\n",
    "        params={\n",
    "            \"asset_cfg\": SceneEntityCfg(\"robot\", joint_names=[\"slider_to_cart\"]),\n",
    "            \"position_range\": (-1.0, 1.0),\n",
    "            \"velocity_range\": (-0.5, 0.5),\n",
    "        },\n",
    "    )\n",
    "\n",
    "    reset_pole_position = EventTerm(\n",
    "        func=mdp.reset_joints_by_offset,\n",
    "        mode=\"reset\",\n",
    "        params={\n",
    "            \"asset_cfg\": SceneEntityCfg(\"robot\", joint_names=[\"cart_to_pole\"]),\n",
    "            \"position_range\": (-0.25 * math.pi, 0.25 * math.pi),\n",
    "            \"velocity_range\": (-0.25 * math.pi, 0.25 * math.pi),\n",
    "        },\n",
    "    )"
   ]
  },
  {
   "cell_type": "code",
   "execution_count": null,
   "id": "4a71d4c6",
   "metadata": {},
   "outputs": [],
   "source": [
    "@configclass\n",
    "class RewardsCfg:\n",
    "    \"\"\"Reward terms for the MDP.\"\"\"\n",
    "\n",
    "    # (1) Constant running reward\n",
    "    alive = RewTerm(func=mdp.is_alive, weight=1.0)\n",
    "    # (2) Failure penalty\n",
    "    terminating = RewTerm(func=mdp.is_terminated, weight=-2.0)\n",
    "    # (3) Primary task: keep pole upright\n",
    "    pole_pos = RewTerm(\n",
    "        func=mdp.joint_pos_target_l2,\n",
    "        weight=-1.0,\n",
    "        params={\"asset_cfg\": SceneEntityCfg(\"robot\", joint_names=[\"cart_to_pole\"]), \"target\": 0.0},\n",
    "    )\n",
    "    # (4) Shaping tasks: lower cart velocity\n",
    "    cart_vel = RewTerm(\n",
    "        func=mdp.joint_vel_l1,\n",
    "        weight=-0.01,\n",
    "        params={\"asset_cfg\": SceneEntityCfg(\"robot\", joint_names=[\"slider_to_cart\"])},\n",
    "    )\n",
    "    # (5) Shaping tasks: lower pole angular velocity\n",
    "    pole_vel = RewTerm(\n",
    "        func=mdp.joint_vel_l1,\n",
    "        weight=-0.005,\n",
    "        params={\"asset_cfg\": SceneEntityCfg(\"robot\", joint_names=[\"cart_to_pole\"])},\n",
    "    )"
   ]
  },
  {
   "cell_type": "code",
   "execution_count": null,
   "id": "8775db82",
   "metadata": {},
   "outputs": [],
   "source": [
    "@configclass\n",
    "class TerminationsCfg:\n",
    "    \"\"\"Termination terms for the MDP.\"\"\"\n",
    "\n",
    "    # (1) Time out\n",
    "    time_out = DoneTerm(func=mdp.time_out, time_out=True)\n",
    "    # (2) Cart out of bounds\n",
    "    cart_out_of_bounds = DoneTerm(\n",
    "        func=mdp.joint_pos_out_of_manual_limit,\n",
    "        params={\"asset_cfg\": SceneEntityCfg(\"robot\", joint_names=[\"slider_to_cart\"]), \"bounds\": (-3.0, 3.0)},\n",
    "    )"
   ]
  },
  {
   "cell_type": "code",
   "execution_count": null,
   "id": "1907397b",
   "metadata": {},
   "outputs": [],
   "source": [
    "@configclass\n",
    "class CartpoleEnvCfg(ManagerBasedRLEnvCfg):\n",
    "    \"\"\"Configuration for the cartpole environment.\"\"\"\n",
    "\n",
    "    # Scene settings\n",
    "    scene: CartpoleSceneCfg = CartpoleSceneCfg(num_envs=4096, env_spacing=4.0, clone_in_fabric=True)\n",
    "    # Basic settings\n",
    "    observations: ObservationsCfg = ObservationsCfg()\n",
    "    actions: ActionsCfg = ActionsCfg()\n",
    "    events: EventCfg = EventCfg()\n",
    "    # MDP settings\n",
    "    rewards: RewardsCfg = RewardsCfg()\n",
    "    terminations: TerminationsCfg = TerminationsCfg()\n",
    "\n",
    "    # Post initialization\n",
    "    def __post_init__(self) -> None:\n",
    "        \"\"\"Post initialization.\"\"\"\n",
    "        # general settings\n",
    "        self.decimation = 2\n",
    "        self.episode_length_s = 5\n",
    "        # viewer settings\n",
    "        self.viewer.eye = (8.0, 0.0, 5.0)\n",
    "        # simulation settings\n",
    "        self.sim.dt = 1 / 120\n",
    "        self.sim.render_interval = self.decimation"
   ]
  }
 ],
 "metadata": {
  "language_info": {
   "name": "python"
  }
 },
 "nbformat": 4,
 "nbformat_minor": 5
}
