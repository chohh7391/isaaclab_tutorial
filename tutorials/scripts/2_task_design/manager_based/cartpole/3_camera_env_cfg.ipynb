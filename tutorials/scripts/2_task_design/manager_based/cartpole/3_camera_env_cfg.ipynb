{
 "cells": [
  {
   "cell_type": "code",
   "execution_count": null,
   "id": "9e532247",
   "metadata": {},
   "outputs": [],
   "source": [
    "import isaaclab.sim as sim_utils\n",
    "from isaaclab.managers import ObservationGroupCfg as ObsGroup\n",
    "from isaaclab.managers import ObservationTermCfg as ObsTerm\n",
    "from isaaclab.managers import SceneEntityCfg\n",
    "from isaaclab.sensors import TiledCameraCfg\n",
    "from isaaclab.utils import configclass\n",
    "\n",
    "# import isaaclab_tasks.manager_based.classic.cartpole.mdp as mdp\n",
    "import isaaclab_tutorial.tasks.direct.cartpole.mdp as mdp\n",
    "\n",
    "from .cartpole_env_cfg import CartpoleEnvCfg, CartpoleSceneCfg"
   ]
  },
  {
   "cell_type": "code",
   "execution_count": null,
   "id": "b3207e82",
   "metadata": {},
   "outputs": [],
   "source": [
    "@configclass\n",
    "class CartpoleRGBCameraSceneCfg(CartpoleSceneCfg):\n",
    "\n",
    "    # add camera to the scene\n",
    "    tiled_camera: TiledCameraCfg = TiledCameraCfg(\n",
    "        prim_path=\"{ENV_REGEX_NS}/Camera\",\n",
    "        offset=TiledCameraCfg.OffsetCfg(pos=(-7.0, 0.0, 3.0), rot=(0.9945, 0.0, 0.1045, 0.0), convention=\"world\"),\n",
    "        data_types=[\"rgb\"],\n",
    "        spawn=sim_utils.PinholeCameraCfg(\n",
    "            focal_length=24.0, focus_distance=400.0, horizontal_aperture=20.955, clipping_range=(0.1, 20.0)\n",
    "        ),\n",
    "        width=100,\n",
    "        height=100,\n",
    "    )"
   ]
  },
  {
   "cell_type": "code",
   "execution_count": null,
   "id": "8253cb4a",
   "metadata": {},
   "outputs": [],
   "source": [
    "@configclass\n",
    "class CartpoleDepthCameraSceneCfg(CartpoleSceneCfg):\n",
    "\n",
    "    # add camera to the scene\n",
    "    tiled_camera: TiledCameraCfg = TiledCameraCfg(\n",
    "        prim_path=\"{ENV_REGEX_NS}/Camera\",\n",
    "        offset=TiledCameraCfg.OffsetCfg(pos=(-7.0, 0.0, 3.0), rot=(0.9945, 0.0, 0.1045, 0.0), convention=\"world\"),\n",
    "        data_types=[\"distance_to_camera\"],\n",
    "        spawn=sim_utils.PinholeCameraCfg(\n",
    "            focal_length=24.0, focus_distance=400.0, horizontal_aperture=20.955, clipping_range=(0.1, 20.0)\n",
    "        ),\n",
    "        width=100,\n",
    "        height=100,\n",
    "    )"
   ]
  },
  {
   "cell_type": "code",
   "execution_count": null,
   "id": "dc728e60",
   "metadata": {},
   "outputs": [],
   "source": [
    "@configclass\n",
    "class RGBObservationsCfg:\n",
    "    \"\"\"Observation specifications for the MDP.\"\"\"\n",
    "\n",
    "    @configclass\n",
    "    class RGBCameraPolicyCfg(ObsGroup):\n",
    "        \"\"\"Observations for policy group with RGB images.\"\"\"\n",
    "\n",
    "        image = ObsTerm(func=mdp.image, params={\"sensor_cfg\": SceneEntityCfg(\"tiled_camera\"), \"data_type\": \"rgb\"})\n",
    "\n",
    "        def __post_init__(self):\n",
    "            self.enable_corruption = False\n",
    "            self.concatenate_terms = True\n",
    "\n",
    "    policy: ObsGroup = RGBCameraPolicyCfg()"
   ]
  },
  {
   "cell_type": "code",
   "execution_count": null,
   "id": "fc2ec562",
   "metadata": {},
   "outputs": [],
   "source": [
    "@configclass\n",
    "class DepthObservationsCfg:\n",
    "    \"\"\"Observation specifications for the MDP.\"\"\"\n",
    "\n",
    "    @configclass\n",
    "    class DepthCameraPolicyCfg(ObsGroup):\n",
    "        \"\"\"Observations for policy group with depth images.\"\"\"\n",
    "\n",
    "        image = ObsTerm(\n",
    "            func=mdp.image, params={\"sensor_cfg\": SceneEntityCfg(\"tiled_camera\"), \"data_type\": \"distance_to_camera\"}\n",
    "        )\n",
    "\n",
    "    policy: ObsGroup = DepthCameraPolicyCfg()"
   ]
  },
  {
   "cell_type": "code",
   "execution_count": null,
   "id": "2e6d03a0",
   "metadata": {},
   "outputs": [],
   "source": [
    "@configclass\n",
    "class ResNet18ObservationCfg:\n",
    "    \"\"\"Observation specifications for the MDP.\"\"\"\n",
    "\n",
    "    @configclass\n",
    "    class ResNet18FeaturesCameraPolicyCfg(ObsGroup):\n",
    "        \"\"\"Observations for policy group with features extracted from RGB images with a frozen ResNet18.\"\"\"\n",
    "\n",
    "        image = ObsTerm(\n",
    "            func=mdp.image_features,\n",
    "            params={\"sensor_cfg\": SceneEntityCfg(\"tiled_camera\"), \"data_type\": \"rgb\", \"model_name\": \"resnet18\"},\n",
    "        )\n",
    "\n",
    "    policy: ObsGroup = ResNet18FeaturesCameraPolicyCfg()"
   ]
  },
  {
   "cell_type": "code",
   "execution_count": null,
   "id": "8e379802",
   "metadata": {},
   "outputs": [],
   "source": [
    "@configclass\n",
    "class TheiaTinyObservationCfg:\n",
    "    \"\"\"Observation specifications for the MDP.\"\"\"\n",
    "\n",
    "    @configclass\n",
    "    class TheiaTinyFeaturesCameraPolicyCfg(ObsGroup):\n",
    "        \"\"\"Observations for policy group with features extracted from RGB images with a frozen Theia-Tiny Transformer\"\"\"\n",
    "\n",
    "        image = ObsTerm(\n",
    "            func=mdp.image_features,\n",
    "            params={\n",
    "                \"sensor_cfg\": SceneEntityCfg(\"tiled_camera\"),\n",
    "                \"data_type\": \"rgb\",\n",
    "                \"model_name\": \"theia-tiny-patch16-224-cddsv\",\n",
    "                \"model_device\": \"cuda:0\",\n",
    "            },\n",
    "        )\n",
    "\n",
    "    policy: ObsGroup = TheiaTinyFeaturesCameraPolicyCfg()"
   ]
  },
  {
   "cell_type": "code",
   "execution_count": null,
   "id": "f689b140",
   "metadata": {},
   "outputs": [],
   "source": [
    "@configclass\n",
    "class CartpoleRGBCameraEnvCfg(CartpoleEnvCfg):\n",
    "    \"\"\"Configuration for the cartpole environment with RGB camera.\"\"\"\n",
    "\n",
    "    scene: CartpoleRGBCameraSceneCfg = CartpoleRGBCameraSceneCfg(num_envs=512, env_spacing=20)\n",
    "    observations: RGBObservationsCfg = RGBObservationsCfg()\n",
    "\n",
    "    def __post_init__(self):\n",
    "        super().__post_init__()\n",
    "        # remove ground as it obstructs the camera\n",
    "        self.scene.ground = None\n",
    "        # viewer settings\n",
    "        self.viewer.eye = (7.0, 0.0, 2.5)\n",
    "        self.viewer.lookat = (0.0, 0.0, 2.5)"
   ]
  },
  {
   "cell_type": "code",
   "execution_count": null,
   "id": "7464b863",
   "metadata": {},
   "outputs": [],
   "source": [
    "@configclass\n",
    "class CartpoleDepthCameraEnvCfg(CartpoleEnvCfg):\n",
    "    \"\"\"Configuration for the cartpole environment with depth camera.\"\"\"\n",
    "\n",
    "    scene: CartpoleDepthCameraSceneCfg = CartpoleDepthCameraSceneCfg(num_envs=512, env_spacing=20)\n",
    "    observations: DepthObservationsCfg = DepthObservationsCfg()\n",
    "\n",
    "    def __post_init__(self):\n",
    "        super().__post_init__()\n",
    "        # remove ground as it obstructs the camera\n",
    "        self.scene.ground = None\n",
    "        # viewer settings\n",
    "        self.viewer.eye = (7.0, 0.0, 2.5)\n",
    "        self.viewer.lookat = (0.0, 0.0, 2.5)"
   ]
  },
  {
   "cell_type": "code",
   "execution_count": null,
   "id": "8f376559",
   "metadata": {},
   "outputs": [],
   "source": [
    "@configclass\n",
    "class CartpoleResNet18CameraEnvCfg(CartpoleRGBCameraEnvCfg):\n",
    "    \"\"\"Configuration for the cartpole environment with ResNet18 features as observations.\"\"\"\n",
    "\n",
    "    observations: ResNet18ObservationCfg = ResNet18ObservationCfg()\n",
    "\n",
    "\n",
    "@configclass\n",
    "class CartpoleTheiaTinyCameraEnvCfg(CartpoleRGBCameraEnvCfg):\n",
    "    \"\"\"Configuration for the cartpole environment with Theia-Tiny features as observations.\"\"\"\n",
    "\n",
    "    observations: TheiaTinyObservationCfg = TheiaTinyObservationCfg()"
   ]
  }
 ],
 "metadata": {
  "language_info": {
   "name": "python"
  }
 },
 "nbformat": 4,
 "nbformat_minor": 5
}
