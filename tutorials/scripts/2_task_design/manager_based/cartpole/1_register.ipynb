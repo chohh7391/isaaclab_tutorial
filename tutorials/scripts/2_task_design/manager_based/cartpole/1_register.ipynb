{
 "cells": [
  {
   "cell_type": "code",
   "execution_count": null,
   "id": "e5908226",
   "metadata": {},
   "outputs": [],
   "source": [
    "import gymnasium as gym\n",
    "\n",
    "from . import agents"
   ]
  },
  {
   "cell_type": "code",
   "execution_count": null,
   "id": "56947467",
   "metadata": {},
   "outputs": [],
   "source": [
    "gym.register(\n",
    "    id=\"Tutorial-Cartpole-v0\",\n",
    "    entry_point=\"isaaclab.envs:ManagerBasedRLEnv\",\n",
    "    disable_env_checker=True,\n",
    "    kwargs={\n",
    "        \"env_cfg_entry_point\": f\"{__name__}.cartpole_env_cfg:CartpoleEnvCfg\",\n",
    "        \"rl_games_cfg_entry_point\": f\"{agents.__name__}:rl_games_ppo_cfg.yaml\",\n",
    "        \"rsl_rl_cfg_entry_point\": f\"{agents.__name__}.rsl_rl_ppo_cfg:CartpolePPORunnerCfg\",\n",
    "        \"rsl_rl_with_symmetry_cfg_entry_point\": f\"{agents.__name__}.rsl_rl_ppo_cfg:CartpolePPORunnerWithSymmetryCfg\",\n",
    "        \"skrl_cfg_entry_point\": f\"{agents.__name__}:skrl_ppo_cfg.yaml\",\n",
    "        \"sb3_cfg_entry_point\": f\"{agents.__name__}:sb3_ppo_cfg.yaml\",\n",
    "    },\n",
    ")"
   ]
  },
  {
   "cell_type": "code",
   "execution_count": null,
   "id": "5162639e",
   "metadata": {},
   "outputs": [],
   "source": [
    "gym.register(\n",
    "    id=\"Tutorial-Cartpole-RGB-v0\",\n",
    "    entry_point=\"isaaclab.envs:ManagerBasedRLEnv\",\n",
    "    disable_env_checker=True,\n",
    "    kwargs={\n",
    "        \"env_cfg_entry_point\": f\"{__name__}.cartpole_camera_env_cfg:CartpoleRGBCameraEnvCfg\",\n",
    "        \"rl_games_cfg_entry_point\": f\"{agents.__name__}:rl_games_camera_ppo_cfg.yaml\",\n",
    "    },\n",
    ")\n",
    "\n",
    "gym.register(\n",
    "    id=\"Tutorial-Cartpole-Depth-v0\",\n",
    "    entry_point=\"isaaclab.envs:ManagerBasedRLEnv\",\n",
    "    disable_env_checker=True,\n",
    "    kwargs={\n",
    "        \"env_cfg_entry_point\": f\"{__name__}.cartpole_camera_env_cfg:CartpoleDepthCameraEnvCfg\",\n",
    "        \"rl_games_cfg_entry_point\": f\"{agents.__name__}:rl_games_camera_ppo_cfg.yaml\",\n",
    "    },\n",
    ")\n",
    "\n",
    "gym.register(\n",
    "    id=\"Tutorial-Cartpole-RGB-ResNet18-v0\",\n",
    "    entry_point=\"isaaclab.envs:ManagerBasedRLEnv\",\n",
    "    disable_env_checker=True,\n",
    "    kwargs={\n",
    "        \"env_cfg_entry_point\": f\"{__name__}.cartpole_camera_env_cfg:CartpoleResNet18CameraEnvCfg\",\n",
    "        \"rl_games_cfg_entry_point\": f\"{agents.__name__}:rl_games_feature_ppo_cfg.yaml\",\n",
    "    },\n",
    ")\n",
    "\n",
    "gym.register(\n",
    "    id=\"Tutorial-Cartpole-RGB-TheiaTiny-v0\",\n",
    "    entry_point=\"isaaclab.envs:ManagerBasedRLEnv\",\n",
    "    disable_env_checker=True,\n",
    "    kwargs={\n",
    "        \"env_cfg_entry_point\": f\"{__name__}.cartpole_camera_env_cfg:CartpoleTheiaTinyCameraEnvCfg\",\n",
    "        \"rl_games_cfg_entry_point\": f\"{agents.__name__}:rl_games_feature_ppo_cfg.yaml\",\n",
    "    },\n",
    ")"
   ]
  }
 ],
 "metadata": {
  "language_info": {
   "name": "python"
  }
 },
 "nbformat": 4,
 "nbformat_minor": 5
}
