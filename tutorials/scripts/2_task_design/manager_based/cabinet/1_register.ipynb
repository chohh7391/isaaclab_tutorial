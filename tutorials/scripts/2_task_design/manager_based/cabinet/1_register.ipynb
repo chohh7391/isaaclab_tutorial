{
 "cells": [
  {
   "cell_type": "code",
   "execution_count": null,
   "id": "17574c3e",
   "metadata": {},
   "outputs": [],
   "source": [
    "import gymnasium as gym\n",
    "\n",
    "from . import agents"
   ]
  },
  {
   "cell_type": "code",
   "execution_count": null,
   "id": "0723869d",
   "metadata": {},
   "outputs": [],
   "source": [
    "gym.register(\n",
    "    id=\"Tutorial-Open-Drawer-Franka-v0\",\n",
    "    entry_point=\"isaaclab.envs:ManagerBasedRLEnv\",\n",
    "    kwargs={\n",
    "        \"env_cfg_entry_point\": f\"{__name__}.joint_pos_env_cfg:FrankaCabinetEnvCfg\",\n",
    "        \"rsl_rl_cfg_entry_point\": f\"{agents.__name__}.rsl_rl_ppo_cfg:CabinetPPORunnerCfg\",\n",
    "        \"rl_games_cfg_entry_point\": f\"{agents.__name__}:rl_games_ppo_cfg.yaml\",\n",
    "        \"skrl_cfg_entry_point\": f\"{agents.__name__}:skrl_ppo_cfg.yaml\",\n",
    "    },\n",
    "    disable_env_checker=True,\n",
    ")\n",
    "\n",
    "gym.register(\n",
    "    id=\"Tutorial-Open-Drawer-Franka-Play-v0\",\n",
    "    entry_point=\"isaaclab.envs:ManagerBasedRLEnv\",\n",
    "    kwargs={\n",
    "        \"env_cfg_entry_point\": f\"{__name__}.joint_pos_env_cfg:FrankaCabinetEnvCfg_PLAY\",\n",
    "        \"rsl_rl_cfg_entry_point\": f\"{agents.__name__}.rsl_rl_ppo_cfg:CabinetPPORunnerCfg\",\n",
    "        \"rl_games_cfg_entry_point\": f\"{agents.__name__}:rl_games_ppo_cfg.yaml\",\n",
    "        \"skrl_cfg_entry_point\": f\"{agents.__name__}:skrl_ppo_cfg.yaml\",\n",
    "    },\n",
    "    disable_env_checker=True,\n",
    ")"
   ]
  },
  {
   "cell_type": "code",
   "execution_count": null,
   "id": "33f21e58",
   "metadata": {},
   "outputs": [],
   "source": [
    "gym.register(\n",
    "    id=\"Tutorial-Open-Drawer-Franka-IK-Abs-v0\",\n",
    "    entry_point=\"isaaclab.envs:ManagerBasedRLEnv\",\n",
    "    kwargs={\n",
    "        \"env_cfg_entry_point\": f\"{__name__}.ik_abs_env_cfg:FrankaCabinetEnvCfg\",\n",
    "    },\n",
    "    disable_env_checker=True,\n",
    ")\n",
    "\n",
    "##\n",
    "# Inverse Kinematics - Relative Pose Control\n",
    "##\n",
    "\n",
    "gym.register(\n",
    "    id=\"Tutorial-Open-Drawer-Franka-IK-Rel-v0\",\n",
    "    entry_point=\"isaaclab.envs:ManagerBasedRLEnv\",\n",
    "    kwargs={\n",
    "        \"env_cfg_entry_point\": f\"{__name__}.ik_rel_env_cfg:FrankaCabinetEnvCfg\",\n",
    "    },\n",
    "    disable_env_checker=True,\n",
    ")"
   ]
  }
 ],
 "metadata": {
  "language_info": {
   "name": "python"
  }
 },
 "nbformat": 4,
 "nbformat_minor": 5
}
