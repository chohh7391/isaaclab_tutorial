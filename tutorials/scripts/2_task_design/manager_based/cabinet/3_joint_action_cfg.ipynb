{
 "cells": [
  {
   "cell_type": "markdown",
   "id": "1fc798c2",
   "metadata": {},
   "source": [
    "# Joint Action Cfg (Parent)"
   ]
  },
  {
   "cell_type": "code",
   "execution_count": null,
   "id": "1b35cf34",
   "metadata": {},
   "outputs": [],
   "source": [
    "from dataclasses import MISSING\n",
    "\n",
    "from isaaclab.controllers import DifferentialIKControllerCfg, OperationalSpaceControllerCfg\n",
    "from isaaclab.managers.action_manager import ActionTerm, ActionTermCfg\n",
    "from isaaclab.utils import configclass\n",
    "\n",
    "from . import (\n",
    "    binary_joint_actions,\n",
    "    joint_actions,\n",
    "    joint_actions_to_limits,\n",
    "    non_holonomic_actions,\n",
    "    surface_gripper_actions,\n",
    "    task_space_actions,\n",
    ")"
   ]
  },
  {
   "cell_type": "code",
   "execution_count": null,
   "id": "62d4de7f",
   "metadata": {},
   "outputs": [],
   "source": [
    "@configclass\n",
    "class JointActionCfg(ActionTermCfg):\n",
    "    \"\"\"Configuration for the base joint action term.\n",
    "\n",
    "    See :class:`JointAction` for more details.\n",
    "    \"\"\"\n",
    "\n",
    "    joint_names: list[str] = MISSING\n",
    "    \"\"\"List of joint names or regex expressions that the action will be mapped to.\"\"\"\n",
    "    scale: float | dict[str, float] = 1.0\n",
    "    \"\"\"Scale factor for the action (float or dict of regex expressions). Defaults to 1.0.\"\"\"\n",
    "    offset: float | dict[str, float] = 0.0\n",
    "    \"\"\"Offset factor for the action (float or dict of regex expressions). Defaults to 0.0.\"\"\"\n",
    "    preserve_order: bool = False\n",
    "    \"\"\"Whether to preserve the order of the joint names in the action output. Defaults to False.\"\"\""
   ]
  },
  {
   "cell_type": "markdown",
   "id": "911dc6b2",
   "metadata": {},
   "source": [
    "# Joint Action Cfgs (Child)"
   ]
  },
  {
   "cell_type": "code",
   "execution_count": null,
   "id": "452803de",
   "metadata": {},
   "outputs": [],
   "source": [
    "@configclass\n",
    "class JointPositionActionCfg(JointActionCfg):\n",
    "    \"\"\"Configuration for the joint position action term.\n",
    "\n",
    "    See :class:`JointPositionAction` for more details.\n",
    "    \"\"\"\n",
    "\n",
    "    class_type: type[ActionTerm] = joint_actions.JointPositionAction\n",
    "\n",
    "    use_default_offset: bool = True\n",
    "    \"\"\"Whether to use default joint positions configured in the articulation asset as offset.\n",
    "    Defaults to True.\n",
    "\n",
    "    If True, this flag results in overwriting the values of :attr:`offset` to the default joint positions\n",
    "    from the articulation asset.\n",
    "    \"\"\""
   ]
  },
  {
   "cell_type": "code",
   "execution_count": null,
   "id": "29ed6804",
   "metadata": {},
   "outputs": [],
   "source": [
    "@configclass\n",
    "class RelativeJointPositionActionCfg(JointActionCfg):\n",
    "    \"\"\"Configuration for the relative joint position action term.\n",
    "\n",
    "    See :class:`RelativeJointPositionAction` for more details.\n",
    "    \"\"\"\n",
    "\n",
    "    class_type: type[ActionTerm] = joint_actions.RelativeJointPositionAction\n",
    "\n",
    "    use_zero_offset: bool = True\n",
    "    \"\"\"Whether to ignore the offset defined in articulation asset. Defaults to True.\n",
    "\n",
    "    If True, this flag results in overwriting the values of :attr:`offset` to zero.\n",
    "    \"\"\""
   ]
  },
  {
   "cell_type": "code",
   "execution_count": null,
   "id": "1226abf6",
   "metadata": {},
   "outputs": [],
   "source": [
    "@configclass\n",
    "class JointVelocityActionCfg(JointActionCfg):\n",
    "    \"\"\"Configuration for the joint velocity action term.\n",
    "\n",
    "    See :class:`JointVelocityAction` for more details.\n",
    "    \"\"\"\n",
    "\n",
    "    class_type: type[ActionTerm] = joint_actions.JointVelocityAction\n",
    "\n",
    "    use_default_offset: bool = True\n",
    "    \"\"\"Whether to use default joint velocities configured in the articulation asset as offset.\n",
    "    Defaults to True.\n",
    "\n",
    "    This overrides the settings from :attr:`offset` if set to True.\n",
    "    \"\"\""
   ]
  },
  {
   "cell_type": "code",
   "execution_count": null,
   "id": "e369fead",
   "metadata": {},
   "outputs": [],
   "source": [
    "@configclass\n",
    "class JointEffortActionCfg(JointActionCfg):\n",
    "    \"\"\"Configuration for the joint effort action term.\n",
    "\n",
    "    See :class:`JointEffortAction` for more details.\n",
    "    \"\"\"\n",
    "\n",
    "    class_type: type[ActionTerm] = joint_actions.JointEffortAction"
   ]
  }
 ],
 "metadata": {
  "language_info": {
   "name": "python"
  }
 },
 "nbformat": 4,
 "nbformat_minor": 5
}
