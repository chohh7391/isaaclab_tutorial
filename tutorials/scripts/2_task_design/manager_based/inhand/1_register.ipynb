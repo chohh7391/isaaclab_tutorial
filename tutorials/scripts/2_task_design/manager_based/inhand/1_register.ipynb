{
 "cells": [
  {
   "cell_type": "code",
   "execution_count": null,
   "id": "5a12fae8",
   "metadata": {},
   "outputs": [],
   "source": [
    "import gymnasium as gym\n",
    "\n",
    "from . import agents"
   ]
  },
  {
   "cell_type": "code",
   "execution_count": null,
   "id": "71ec71ce",
   "metadata": {},
   "outputs": [],
   "source": [
    "gym.register(\n",
    "    id=\"Tutorial-Repose-Cube-Allegro-v0\",\n",
    "    entry_point=\"isaaclab.envs:ManagerBasedRLEnv\",\n",
    "    disable_env_checker=True,\n",
    "    kwargs={\n",
    "        \"env_cfg_entry_point\": f\"{__name__}.allegro_env_cfg:AllegroCubeEnvCfg\",\n",
    "        \"rsl_rl_cfg_entry_point\": f\"{agents.__name__}.rsl_rl_ppo_cfg:AllegroCubePPORunnerCfg\",\n",
    "        \"rl_games_cfg_entry_point\": f\"{agents.__name__}:rl_games_ppo_cfg.yaml\",\n",
    "        \"skrl_cfg_entry_point\": f\"{agents.__name__}:skrl_ppo_cfg.yaml\",\n",
    "    },\n",
    ")\n",
    "\n",
    "gym.register(\n",
    "    id=\"Tutorial-Repose-Cube-Allegro-Play-v0\",\n",
    "    entry_point=\"isaaclab.envs:ManagerBasedRLEnv\",\n",
    "    disable_env_checker=True,\n",
    "    kwargs={\n",
    "        \"env_cfg_entry_point\": f\"{__name__}.allegro_env_cfg:AllegroCubeEnvCfg_PLAY\",\n",
    "        \"rsl_rl_cfg_entry_point\": f\"{agents.__name__}.rsl_rl_ppo_cfg:AllegroCubePPORunnerCfg\",\n",
    "        \"rl_games_cfg_entry_point\": f\"{agents.__name__}:rl_games_ppo_cfg.yaml\",\n",
    "        \"skrl_cfg_entry_point\": f\"{agents.__name__}:skrl_ppo_cfg.yaml\",\n",
    "    },\n",
    ")"
   ]
  },
  {
   "cell_type": "code",
   "execution_count": null,
   "id": "0ec01fec",
   "metadata": {},
   "outputs": [],
   "source": [
    "gym.register(\n",
    "    id=\"Tutorial-Repose-Cube-Allegro-NoVelObs-v0\",\n",
    "    entry_point=\"isaaclab.envs:ManagerBasedRLEnv\",\n",
    "    disable_env_checker=True,\n",
    "    kwargs={\n",
    "        \"env_cfg_entry_point\": f\"{__name__}.allegro_env_cfg:AllegroCubeNoVelObsEnvCfg\",\n",
    "        \"rsl_rl_cfg_entry_point\": f\"{agents.__name__}.rsl_rl_ppo_cfg:AllegroCubeNoVelObsPPORunnerCfg\",\n",
    "        \"rl_games_cfg_entry_point\": f\"{agents.__name__}:rl_games_ppo_cfg.yaml\",\n",
    "        \"skrl_cfg_entry_point\": f\"{agents.__name__}:skrl_ppo_cfg.yaml\",\n",
    "    },\n",
    ")\n",
    "\n",
    "gym.register(\n",
    "    id=\"Tutorial-Repose-Cube-Allegro-NoVelObs-Play-v0\",\n",
    "    entry_point=\"isaaclab.envs:ManagerBasedRLEnv\",\n",
    "    disable_env_checker=True,\n",
    "    kwargs={\n",
    "        \"env_cfg_entry_point\": f\"{__name__}.allegro_env_cfg:AllegroCubeNoVelObsEnvCfg_PLAY\",\n",
    "        \"rsl_rl_cfg_entry_point\": f\"{agents.__name__}.rsl_rl_ppo_cfg:AllegroCubeNoVelObsPPORunnerCfg\",\n",
    "        \"rl_games_cfg_entry_point\": f\"{agents.__name__}:rl_games_ppo_cfg.yaml\",\n",
    "        \"skrl_cfg_entry_point\": f\"{agents.__name__}:skrl_ppo_cfg.yaml\",\n",
    "    },\n",
    ")"
   ]
  }
 ],
 "metadata": {
  "language_info": {
   "name": "python"
  }
 },
 "nbformat": 4,
 "nbformat_minor": 5
}
