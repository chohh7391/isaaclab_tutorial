{
 "cells": [
  {
   "cell_type": "code",
   "execution_count": null,
   "id": "0d277ff1",
   "metadata": {},
   "outputs": [],
   "source": [
    "import argparse\n",
    "import os\n",
    "\n",
    "from isaaclab.app import AppLauncher\n",
    "\n",
    "# create argparser\n",
    "parser = argparse.ArgumentParser(description=\"Tutorial on creating logs from within the docker container.\")\n",
    "# append AppLauncher cli args\n",
    "AppLauncher.add_app_launcher_args(parser)\n",
    "# parse the arguments\n",
    "args_cli = parser.parse_args()\n",
    "# launch omniverse app\n",
    "app_launcher = AppLauncher(args_cli)\n",
    "simulation_app = app_launcher.app"
   ]
  },
  {
   "cell_type": "code",
   "execution_count": null,
   "id": "3a326bc5",
   "metadata": {},
   "outputs": [],
   "source": [
    "from isaaclab.sim import SimulationCfg, SimulationContext\n",
    "\n",
    "\n",
    "def main():\n",
    "    \"\"\"Main function.\"\"\"\n",
    "    # Specify that the logs must be in logs/docker_tutorial\n",
    "    log_dir_path = os.path.join(\"logs\")\n",
    "    if not os.path.isdir(log_dir_path):\n",
    "        os.mkdir(log_dir_path)\n",
    "    # In the container, the absolute path will be\n",
    "    # /workspace/isaaclab/logs/docker_tutorial, because\n",
    "    # all python execution is done through /workspace/isaaclab/isaaclab.sh\n",
    "    # and the calling process' path will be /workspace/isaaclab\n",
    "    log_dir_path = os.path.abspath(os.path.join(log_dir_path, \"docker_tutorial\"))\n",
    "    if not os.path.isdir(log_dir_path):\n",
    "        os.mkdir(log_dir_path)\n",
    "    print(f\"[INFO] Logging experiment to directory: {log_dir_path}\")\n",
    "\n",
    "    # Initialize the simulation context\n",
    "    sim_cfg = SimulationCfg(dt=0.01)\n",
    "    sim = SimulationContext(sim_cfg)\n",
    "    # Set main camera\n",
    "    sim.set_camera_view([2.5, 2.5, 2.5], [0.0, 0.0, 0.0])\n",
    "\n",
    "    # Play the simulator\n",
    "    sim.reset()\n",
    "    # Now we are ready!\n",
    "    print(\"[INFO]: Setup complete...\")\n",
    "\n",
    "    # Prepare to count sim_time\n",
    "    sim_dt = sim.get_physics_dt()\n",
    "    sim_time = 0.0\n",
    "\n",
    "    # Open logging file\n",
    "    with open(os.path.join(log_dir_path, \"log.txt\"), \"w\") as log_file:\n",
    "        # Simulate physics\n",
    "        while simulation_app.is_running():\n",
    "            log_file.write(f\"{sim_time}\" + \"\\n\")\n",
    "            # perform step\n",
    "            sim.step()\n",
    "            sim_time += sim_dt"
   ]
  },
  {
   "cell_type": "code",
   "execution_count": null,
   "id": "f69d0e79",
   "metadata": {},
   "outputs": [],
   "source": [
    "if __name__ == \"__main__\":\n",
    "    # run the main function\n",
    "    main()\n",
    "    # close sim app\n",
    "    simulation_app.close()"
   ]
  }
 ],
 "metadata": {
  "language_info": {
   "name": "python"
  }
 },
 "nbformat": 4,
 "nbformat_minor": 5
}
