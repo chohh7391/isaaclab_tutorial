{
 "cells": [
  {
   "cell_type": "code",
   "execution_count": null,
   "id": "a3913e91",
   "metadata": {},
   "outputs": [],
   "source": [
    "import argparse\n",
    "\n",
    "from isaaclab.app import AppLauncher\n",
    "\n",
    "# create argparser\n",
    "parser = argparse.ArgumentParser(\n",
    "    description=\"Tutorial on viewing a warehouse scene with a given rendering mode preset.\"\n",
    ")\n",
    "# append AppLauncher cli args\n",
    "AppLauncher.add_app_launcher_args(parser)\n",
    "# parse the arguments\n",
    "args_cli = parser.parse_args()\n",
    "# launch omniverse app\n",
    "app_launcher = AppLauncher(args_cli)\n",
    "simulation_app = app_launcher.app"
   ]
  },
  {
   "cell_type": "code",
   "execution_count": null,
   "id": "195a418e",
   "metadata": {},
   "outputs": [],
   "source": [
    "import isaaclab.sim as sim_utils\n",
    "from isaaclab.utils.assets import ISAAC_NUCLEUS_DIR\n",
    "\n",
    "\n",
    "def main():\n",
    "    \"\"\"Main function.\"\"\"\n",
    "\n",
    "    # rendering modes include performance, balanced, and quality\n",
    "    # note, the rendering_mode specified in the CLI argument (--rendering_mode) takes precedence over this Render Config setting\n",
    "    rendering_mode = \"performance\"\n",
    "\n",
    "    # carb setting dictionary can include any rtx carb setting which will overwrite the native preset setting\n",
    "    carb_settings = {\"rtx.reflections.enabled\": True}\n",
    "\n",
    "    # Initialize render config\n",
    "    render_cfg = sim_utils.RenderCfg(\n",
    "        rendering_mode=rendering_mode,\n",
    "        carb_settings=carb_settings,\n",
    "    )\n",
    "\n",
    "    # Initialize the simulation context with render coofig\n",
    "    sim_cfg = sim_utils.SimulationCfg(render=render_cfg)\n",
    "    sim = sim_utils.SimulationContext(sim_cfg)\n",
    "\n",
    "    # Pose camera in the hospital lobby area\n",
    "    sim.set_camera_view([-11, -0.5, 2], [0, 0, 0.5])\n",
    "\n",
    "    # Load hospital scene\n",
    "    hospital_usd_path = f\"{ISAAC_NUCLEUS_DIR}/Environments/Hospital/hospital.usd\"\n",
    "    cfg = sim_utils.UsdFileCfg(usd_path=hospital_usd_path)\n",
    "    cfg.func(\"/Scene\", cfg)\n",
    "\n",
    "    # Play the simulator\n",
    "    sim.reset()\n",
    "\n",
    "    # Now we are ready!\n",
    "    print(\"[INFO]: Setup complete...\")\n",
    "\n",
    "    # Run simulation and view scene\n",
    "    while simulation_app.is_running():\n",
    "        sim.step()"
   ]
  },
  {
   "cell_type": "code",
   "execution_count": null,
   "id": "f59cf400",
   "metadata": {},
   "outputs": [],
   "source": [
    "if __name__ == \"__main__\":\n",
    "    # run the main function\n",
    "    main()\n",
    "    # close sim app\n",
    "    simulation_app.close()\n"
   ]
  }
 ],
 "metadata": {
  "language_info": {
   "name": "python"
  }
 },
 "nbformat": 4,
 "nbformat_minor": 5
}
