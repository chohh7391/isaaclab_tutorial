{
 "cells": [
  {
   "cell_type": "code",
   "execution_count": null,
   "id": "2372b4ec",
   "metadata": {},
   "outputs": [],
   "source": [
    "import argparse\n",
    "\n",
    "from isaaclab.app import AppLauncher\n",
    "\n",
    "# create argparser\n",
    "parser = argparse.ArgumentParser(description=\"Tutorial on running IsaacSim via the AppLauncher.\")\n",
    "parser.add_argument(\"--size\", type=float, default=1.0, help=\"Side-length of cuboid\")\n",
    "# SimulationApp arguments https://docs.omniverse.nvidia.com/py/isaacsim/source/isaacsim.simulation_app/docs/index.html?highlight=simulationapp#isaacsim.simulation_app.SimulationApp\n",
    "parser.add_argument(\n",
    "    \"--width\", type=int, default=1280, help=\"Width of the viewport and generated images. Defaults to 1280\"\n",
    ")\n",
    "parser.add_argument(\n",
    "    \"--height\", type=int, default=720, help=\"Height of the viewport and generated images. Defaults to 720\"\n",
    ")\n",
    "\n",
    "# append AppLauncher cli args\n",
    "AppLauncher.add_app_launcher_args(parser)\n",
    "# parse the arguments\n",
    "args_cli = parser.parse_args()\n",
    "# launch omniverse app\n",
    "app_launcher = AppLauncher(args_cli)\n",
    "simulation_app = app_launcher.app"
   ]
  },
  {
   "cell_type": "code",
   "execution_count": null,
   "id": "39469661",
   "metadata": {},
   "outputs": [],
   "source": [
    "import isaaclab.sim as sim_utils\n",
    "\n",
    "def design_scene():\n",
    "    \"\"\"Designs the scene by spawning ground plane, light, objects and meshes from usd files.\"\"\"\n",
    "    # Ground-plane\n",
    "    cfg_ground = sim_utils.GroundPlaneCfg()\n",
    "    cfg_ground.func(\"/World/defaultGroundPlane\", cfg_ground)\n",
    "\n",
    "    # spawn distant light\n",
    "    cfg_light_distant = sim_utils.DistantLightCfg(\n",
    "        intensity=3000.0,\n",
    "        color=(0.75, 0.75, 0.75),\n",
    "    )\n",
    "    cfg_light_distant.func(\"/World/lightDistant\", cfg_light_distant, translation=(1, 0, 10))\n",
    "\n",
    "    # spawn a cuboid\n",
    "    cfg_cuboid = sim_utils.CuboidCfg(\n",
    "        size=[args_cli.size] * 3,\n",
    "        visual_material=sim_utils.PreviewSurfaceCfg(diffuse_color=(1.0, 1.0, 1.0)),\n",
    "    )\n",
    "    # Spawn cuboid, altering translation on the z-axis to scale to its size\n",
    "    cfg_cuboid.func(\"/World/Object\", cfg_cuboid, translation=(0.0, 0.0, args_cli.size / 2))"
   ]
  },
  {
   "cell_type": "code",
   "execution_count": null,
   "id": "b675def7",
   "metadata": {},
   "outputs": [],
   "source": [
    "def main():\n",
    "    \"\"\"Main function.\"\"\"\n",
    "\n",
    "    # Initialize the simulation context\n",
    "    sim_cfg = sim_utils.SimulationCfg(dt=0.01, device=args_cli.device)\n",
    "    sim = sim_utils.SimulationContext(sim_cfg)\n",
    "    # Set main camera\n",
    "    sim.set_camera_view([2.0, 0.0, 2.5], [-0.5, 0.0, 0.5])\n",
    "\n",
    "    # Design scene by adding assets to it\n",
    "    design_scene()\n",
    "\n",
    "    # Play the simulator\n",
    "    sim.reset()\n",
    "    # Now we are ready!\n",
    "    print(\"[INFO]: Setup complete...\")\n",
    "\n",
    "    # Simulate physics\n",
    "    while simulation_app.is_running():\n",
    "        # perform step\n",
    "        sim.step()"
   ]
  },
  {
   "cell_type": "code",
   "execution_count": null,
   "id": "c2f3cd7b",
   "metadata": {},
   "outputs": [],
   "source": [
    "if __name__ == \"__main__\":\n",
    "    # run the main function\n",
    "    main()\n",
    "    # close sim app\n",
    "    simulation_app.close()"
   ]
  }
 ],
 "metadata": {
  "language_info": {
   "name": "python"
  }
 },
 "nbformat": 4,
 "nbformat_minor": 5
}
