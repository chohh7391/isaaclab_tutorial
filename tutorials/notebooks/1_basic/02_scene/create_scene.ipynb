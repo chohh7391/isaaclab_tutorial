{
 "cells": [
  {
   "cell_type": "code",
   "execution_count": null,
   "id": "0e793c5d",
   "metadata": {},
   "outputs": [],
   "source": [
    "import argparse\n",
    "\n",
    "from isaaclab.app import AppLauncher\n",
    "\n",
    "# add argparse arguments\n",
    "parser = argparse.ArgumentParser(description=\"Tutorial on using the interactive scene interface.\")\n",
    "parser.add_argument(\"--num_envs\", type=int, default=2, help=\"Number of environments to spawn.\")\n",
    "# append AppLauncher cli args\n",
    "AppLauncher.add_app_launcher_args(parser)\n",
    "# parse the arguments\n",
    "args_cli = parser.parse_args()\n",
    "\n",
    "# launch omniverse app\n",
    "app_launcher = AppLauncher(args_cli)\n",
    "simulation_app = app_launcher.app"
   ]
  },
  {
   "cell_type": "code",
   "execution_count": null,
   "id": "93aaf0bf",
   "metadata": {},
   "outputs": [],
   "source": [
    "import torch\n",
    "\n",
    "import isaaclab.sim as sim_utils\n",
    "from isaaclab.assets import ArticulationCfg, AssetBaseCfg\n",
    "from isaaclab.scene import InteractiveScene, InteractiveSceneCfg\n",
    "from isaaclab.sim import SimulationContext\n",
    "from isaaclab.utils import configclass"
   ]
  },
  {
   "cell_type": "code",
   "execution_count": null,
   "id": "3be0dc22",
   "metadata": {},
   "outputs": [],
   "source": [
    "##\n",
    "# Pre-defined configs\n",
    "##\n",
    "from isaaclab_assets import CARTPOLE_CFG  # isort:skip"
   ]
  },
  {
   "cell_type": "code",
   "execution_count": null,
   "id": "fc2de1e7",
   "metadata": {},
   "outputs": [],
   "source": [
    "@configclass\n",
    "class CartpoleSceneCfg(InteractiveSceneCfg):\n",
    "    \"\"\"Configuration for a cart-pole scene.\"\"\"\n",
    "\n",
    "    # ground plane\n",
    "    ground = AssetBaseCfg(prim_path=\"/World/defaultGroundPlane\", spawn=sim_utils.GroundPlaneCfg())\n",
    "\n",
    "    # lights\n",
    "    dome_light = AssetBaseCfg(\n",
    "        prim_path=\"/World/Light\", spawn=sim_utils.DomeLightCfg(intensity=3000.0, color=(0.75, 0.75, 0.75))\n",
    "    )\n",
    "\n",
    "    # articulation\n",
    "    cartpole: ArticulationCfg = CARTPOLE_CFG.replace(prim_path=\"{ENV_REGEX_NS}/Robot\")"
   ]
  },
  {
   "cell_type": "code",
   "execution_count": null,
   "id": "e3cf3e96",
   "metadata": {},
   "outputs": [],
   "source": [
    "def run_simulator(sim: sim_utils.SimulationContext, scene: InteractiveScene):\n",
    "    \"\"\"Runs the simulation loop.\"\"\"\n",
    "    # Extract scene entities\n",
    "    # note: we only do this here for readability.\n",
    "    robot = scene[\"cartpole\"]\n",
    "    # Define simulation stepping\n",
    "    sim_dt = sim.get_physics_dt()\n",
    "    count = 0\n",
    "    # Simulation loop\n",
    "    while simulation_app.is_running():\n",
    "        # Reset\n",
    "        if count % 500 == 0:\n",
    "            # reset counter\n",
    "            count = 0\n",
    "            # reset the scene entities\n",
    "            # root state\n",
    "            # we offset the root state by the origin since the states are written in simulation world frame\n",
    "            # if this is not done, then the robots will be spawned at the (0, 0, 0) of the simulation world\n",
    "            root_state = robot.data.default_root_state.clone()\n",
    "            root_state[:, :3] += scene.env_origins\n",
    "            robot.write_root_pose_to_sim(root_state[:, :7])\n",
    "            robot.write_root_velocity_to_sim(root_state[:, 7:])\n",
    "            # set joint positions with some noise\n",
    "            joint_pos, joint_vel = robot.data.default_joint_pos.clone(), robot.data.default_joint_vel.clone()\n",
    "            joint_pos += torch.rand_like(joint_pos) * 0.1\n",
    "            robot.write_joint_state_to_sim(joint_pos, joint_vel)\n",
    "            # clear internal buffers\n",
    "            scene.reset()\n",
    "            print(\"[INFO]: Resetting robot state...\")\n",
    "        # Apply random action\n",
    "        # -- generate random joint efforts\n",
    "        efforts = torch.randn_like(robot.data.joint_pos) * 5.0\n",
    "        # -- apply action to the robot\n",
    "        robot.set_joint_effort_target(efforts)\n",
    "        # -- write data to sim\n",
    "        scene.write_data_to_sim()\n",
    "        # Perform step\n",
    "        sim.step()\n",
    "        # Increment counter\n",
    "        count += 1\n",
    "        # Update buffers\n",
    "        scene.update(sim_dt)"
   ]
  },
  {
   "cell_type": "code",
   "execution_count": null,
   "id": "def868d9",
   "metadata": {},
   "outputs": [],
   "source": [
    "def main():\n",
    "    \"\"\"Main function.\"\"\"\n",
    "    # Load kit helper\n",
    "    sim_cfg = sim_utils.SimulationCfg(device=args_cli.device)\n",
    "    sim = SimulationContext(sim_cfg)\n",
    "    # Set main camera\n",
    "    sim.set_camera_view([2.5, 0.0, 4.0], [0.0, 0.0, 2.0])\n",
    "    # Design scene\n",
    "    scene_cfg = CartpoleSceneCfg(num_envs=args_cli.num_envs, env_spacing=2.0)\n",
    "    scene = InteractiveScene(scene_cfg)\n",
    "    # Play the simulator\n",
    "    sim.reset()\n",
    "    # Now we are ready!\n",
    "    print(\"[INFO]: Setup complete...\")\n",
    "    # Run the simulator\n",
    "    run_simulator(sim, scene)"
   ]
  },
  {
   "cell_type": "code",
   "execution_count": null,
   "id": "e6222ab5",
   "metadata": {},
   "outputs": [],
   "source": [
    "if __name__ == \"__main__\":\n",
    "    # run the main function\n",
    "    main()\n",
    "    # close sim app\n",
    "    simulation_app.close()"
   ]
  }
 ],
 "metadata": {
  "language_info": {
   "name": "python"
  }
 },
 "nbformat": 4,
 "nbformat_minor": 5
}
