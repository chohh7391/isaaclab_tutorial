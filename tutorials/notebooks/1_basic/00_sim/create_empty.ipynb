{
 "cells": [
  {
   "cell_type": "code",
   "execution_count": null,
   "id": "a3b165d3",
   "metadata": {},
   "outputs": [],
   "source": [
    "import argparse\n",
    "\n",
    "from isaaclab.app import AppLauncher\n",
    "\n",
    "# create argparser\n",
    "parser = argparse.ArgumentParser(description=\"Tutorial on creating an empty stage.\")\n",
    "# append AppLauncher cli args\n",
    "AppLauncher.add_app_launcher_args(parser)\n",
    "# parse the arguments\n",
    "args_cli = parser.parse_args()\n",
    "# launch omniverse app\n",
    "app_launcher = AppLauncher(args_cli)\n",
    "simulation_app = app_launcher.app"
   ]
  },
  {
   "cell_type": "code",
   "execution_count": null,
   "id": "dff429c9",
   "metadata": {},
   "outputs": [],
   "source": [
    "from isaaclab.sim import SimulationCfg, SimulationContext\n",
    "\n",
    "def main():\n",
    "    \"\"\"Main function.\"\"\"\n",
    "\n",
    "    # Initialize the simulation context\n",
    "    sim_cfg = SimulationCfg(dt=0.01)\n",
    "    sim = SimulationContext(sim_cfg)\n",
    "    # Set main camera\n",
    "    sim.set_camera_view([2.5, 2.5, 2.5], [0.0, 0.0, 0.0])\n",
    "\n",
    "    # Play the simulator\n",
    "    sim.reset()\n",
    "    # Now we are ready!\n",
    "    print(\"[INFO]: Setup complete...\")\n",
    "\n",
    "    # Simulate physics\n",
    "    while simulation_app.is_running():\n",
    "        # perform step\n",
    "        sim.step()"
   ]
  },
  {
   "cell_type": "code",
   "execution_count": null,
   "id": "4e99b4c7",
   "metadata": {},
   "outputs": [],
   "source": [
    "if __name__ == \"__main__\":\n",
    "    # run the main function\n",
    "    main()\n",
    "    # close sim app\n",
    "    simulation_app.close()"
   ]
  }
 ],
 "metadata": {
  "language_info": {
   "name": "python"
  }
 },
 "nbformat": 4,
 "nbformat_minor": 5
}
