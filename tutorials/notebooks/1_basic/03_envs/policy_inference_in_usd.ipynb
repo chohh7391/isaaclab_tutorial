{
 "cells": [
  {
   "cell_type": "code",
   "execution_count": null,
   "id": "a26383cf",
   "metadata": {},
   "outputs": [],
   "source": [
    "import argparse\n",
    "\n",
    "from isaaclab.app import AppLauncher\n",
    "\n",
    "# add argparse arguments\n",
    "parser = argparse.ArgumentParser(description=\"Tutorial on inferencing a policy on an H1 robot in a warehouse.\")\n",
    "parser.add_argument(\"--checkpoint\", type=str, help=\"Path to model checkpoint exported as jit.\", required=True)\n",
    "\n",
    "# append AppLauncher cli args\n",
    "AppLauncher.add_app_launcher_args(parser)\n",
    "# parse the arguments\n",
    "args_cli = parser.parse_args()\n",
    "\n",
    "# launch omniverse app\n",
    "app_launcher = AppLauncher(args_cli)\n",
    "simulation_app = app_launcher.app"
   ]
  },
  {
   "cell_type": "code",
   "execution_count": null,
   "id": "ad1e187b",
   "metadata": {},
   "outputs": [],
   "source": [
    "import io\n",
    "import os\n",
    "import torch\n",
    "\n",
    "import omni\n",
    "\n",
    "from isaaclab.envs import ManagerBasedRLEnv\n",
    "from isaaclab.terrains import TerrainImporterCfg\n",
    "from isaaclab.utils.assets import ISAAC_NUCLEUS_DIR"
   ]
  },
  {
   "cell_type": "code",
   "execution_count": null,
   "id": "07c689d6",
   "metadata": {},
   "outputs": [],
   "source": [
    "from isaaclab_tasks.manager_based.locomotion.velocity.config.h1.rough_env_cfg import H1RoughEnvCfg_PLAY"
   ]
  },
  {
   "cell_type": "code",
   "execution_count": null,
   "id": "fe81b4e8",
   "metadata": {},
   "outputs": [],
   "source": [
    "def main():\n",
    "    \"\"\"Main function.\"\"\"\n",
    "    # load the trained jit policy\n",
    "    policy_path = os.path.abspath(args_cli.checkpoint)\n",
    "    file_content = omni.client.read_file(policy_path)[2]\n",
    "    file = io.BytesIO(memoryview(file_content).tobytes())\n",
    "    policy = torch.jit.load(file, map_location=args_cli.device)\n",
    "\n",
    "    # setup environment\n",
    "    env_cfg = H1RoughEnvCfg_PLAY()\n",
    "    env_cfg.scene.num_envs = 1\n",
    "    env_cfg.curriculum = None\n",
    "    env_cfg.scene.terrain = TerrainImporterCfg(\n",
    "        prim_path=\"/World/ground\",\n",
    "        terrain_type=\"usd\",\n",
    "        usd_path=f\"{ISAAC_NUCLEUS_DIR}/Environments/Simple_Warehouse/warehouse.usd\",\n",
    "    )\n",
    "    env_cfg.sim.device = args_cli.device\n",
    "    if args_cli.device == \"cpu\":\n",
    "        env_cfg.sim.use_fabric = False\n",
    "\n",
    "    # create environment\n",
    "    env = ManagerBasedRLEnv(cfg=env_cfg)\n",
    "\n",
    "    # run inference with the policy\n",
    "    obs, _ = env.reset()\n",
    "    with torch.inference_mode():\n",
    "        while simulation_app.is_running():\n",
    "            action = policy(obs[\"policy\"])\n",
    "            obs, _, _, _, _ = env.step(action)"
   ]
  },
  {
   "cell_type": "code",
   "execution_count": null,
   "id": "65fdb0ee",
   "metadata": {},
   "outputs": [],
   "source": [
    "if __name__ == \"__main__\":\n",
    "    main()\n",
    "    simulation_app.close()"
   ]
  }
 ],
 "metadata": {
  "language_info": {
   "name": "python"
  }
 },
 "nbformat": 4,
 "nbformat_minor": 5
}
