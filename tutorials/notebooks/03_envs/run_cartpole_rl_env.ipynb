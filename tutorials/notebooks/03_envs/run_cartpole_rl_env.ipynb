{
 "cells": [
  {
   "cell_type": "code",
   "execution_count": null,
   "id": "6f187d17",
   "metadata": {},
   "outputs": [],
   "source": [
    "import argparse\n",
    "\n",
    "from isaaclab.app import AppLauncher\n",
    "\n",
    "# add argparse arguments\n",
    "parser = argparse.ArgumentParser(description=\"Tutorial on running the cartpole RL environment.\")\n",
    "parser.add_argument(\"--num_envs\", type=int, default=16, help=\"Number of environments to spawn.\")\n",
    "\n",
    "# append AppLauncher cli args\n",
    "AppLauncher.add_app_launcher_args(parser)\n",
    "# parse the arguments\n",
    "args_cli = parser.parse_args()\n",
    "\n",
    "# launch omniverse app\n",
    "app_launcher = AppLauncher(args_cli)\n",
    "simulation_app = app_launcher.app"
   ]
  },
  {
   "cell_type": "code",
   "execution_count": null,
   "id": "93a874d8",
   "metadata": {},
   "outputs": [],
   "source": [
    "import torch\n",
    "\n",
    "from isaaclab.envs import ManagerBasedRLEnv"
   ]
  },
  {
   "cell_type": "code",
   "execution_count": null,
   "id": "91fa81c2",
   "metadata": {},
   "outputs": [],
   "source": [
    "from isaaclab_tasks.manager_based.classic.cartpole.cartpole_env_cfg import CartpoleEnvCfg"
   ]
  },
  {
   "cell_type": "code",
   "execution_count": null,
   "id": "9a9d5f73",
   "metadata": {},
   "outputs": [],
   "source": [
    "def main():\n",
    "    \"\"\"Main function.\"\"\"\n",
    "    # create environment configuration\n",
    "    env_cfg = CartpoleEnvCfg()\n",
    "    env_cfg.scene.num_envs = args_cli.num_envs\n",
    "    env_cfg.sim.device = args_cli.device\n",
    "    # setup RL environment\n",
    "    env = ManagerBasedRLEnv(cfg=env_cfg)\n",
    "\n",
    "    # simulate physics\n",
    "    count = 0\n",
    "    while simulation_app.is_running():\n",
    "        with torch.inference_mode():\n",
    "            # reset\n",
    "            if count % 300 == 0:\n",
    "                count = 0\n",
    "                env.reset()\n",
    "                print(\"-\" * 80)\n",
    "                print(\"[INFO]: Resetting environment...\")\n",
    "            # sample random actions\n",
    "            joint_efforts = torch.randn_like(env.action_manager.action)\n",
    "            # step the environment\n",
    "            obs, rew, terminated, truncated, info = env.step(joint_efforts)\n",
    "            # print current orientation of pole\n",
    "            print(\"[Env 0]: Pole joint: \", obs[\"policy\"][0][1].item())\n",
    "            # update counter\n",
    "            count += 1\n",
    "\n",
    "    # close the environment\n",
    "    env.close()"
   ]
  },
  {
   "cell_type": "code",
   "execution_count": null,
   "id": "9502254d",
   "metadata": {},
   "outputs": [],
   "source": [
    "if __name__ == \"__main__\":\n",
    "    # run the main function\n",
    "    main()\n",
    "    # close sim app\n",
    "    simulation_app.close()"
   ]
  }
 ],
 "metadata": {
  "language_info": {
   "name": "python"
  }
 },
 "nbformat": 4,
 "nbformat_minor": 5
}
